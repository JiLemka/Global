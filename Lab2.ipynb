{
 "cells": [
  {
   "cell_type": "code",
   "execution_count": 114,
   "metadata": {},
   "outputs": [],
   "source": [
    "def coding(text):\n",
    "  import numpy as np\n",
    "  import zlib\n",
    "  crc32=zlib.crc32(text.encode('utf-8'))\n",
    "  a=[]\n",
    "  for elem in text:\n",
    "    a.append(ord(elem))\n",
    "  x=np.zeros((len(a)//3+min(len(a)%3,1),85))\n",
    "  for index in range(0,len(a),3):\n",
    "    b=np.zeros(20)\n",
    "    for i in range(20):\n",
    "      if 2**(19-i)<=a[index]:\n",
    "        b[i]=1\n",
    "        a[index]-=2**(19-i)\n",
    "    k=0\n",
    "    for i in range(25):\n",
    "     if 2**k==i+1:\n",
    "      k+=1\n",
    "     else:\n",
    "      x[index//3][i]=b[i-k]\n",
    "    b=np.zeros(20)\n",
    "    if index+1<len(a):\n",
    "      for i in range(20):\n",
    "        if 2**(19-i)<=a[index+1]:\n",
    "          b[i]=1\n",
    "          a[index+1]-=2**(19-i)\n",
    "    for i in range(20):\n",
    "      if i<6:\n",
    "       x[index//3][i+25]=b[i]\n",
    "      else:\n",
    "       x[index//3][i+26]=b[i]      \n",
    "    b=np.zeros(20)\n",
    "    if index+2<len(a):\n",
    "      for i in range(20):\n",
    "        if 2**(19-i)<=a[index+2]:\n",
    "          b[i]=1\n",
    "          a[index+2]-=2**(19-i)      \n",
    "    for i in range(20):\n",
    "      if i<17:\n",
    "       x[index//3][i+46]=b[i]\n",
    "      else:\n",
    "       x[index//3][i+47]=b[i]   \n",
    "  p=[]      \n",
    "  for ind in range(x.shape[0]):\n",
    "    y=np.zeros(7)    \n",
    "    for i in range(7):\n",
    "      s=0\n",
    "      for j in range(2**i-1, 85, 2**(i+1)):\n",
    "        for k in range(2**i):\n",
    "          if j+k<85:\n",
    "            s+=x[ind][j+k]\n",
    "      y[i]=int(s)%2\n",
    "    for i in range(7):        \n",
    "      x[ind][2**i-1]=y[i]\n",
    "    p.append(y)\n",
    "  cons=zlib.crc32(str(p).encode('utf-8'))\n",
    "  return x, p, crc32, cons"
   ]
  },
  {
   "cell_type": "code",
   "execution_count": 115,
   "metadata": {},
   "outputs": [],
   "source": [
    "def encoding(mes, matr, c32, cs):\n",
    "  \n",
    "  import numpy as np\n",
    "  import zlib\n",
    "   \n",
    "  message, mat=mes.copy(), matr.copy()\n",
    "  if cs==zlib.crc32(str(mat).encode('utf-8')):\n",
    "    print('контрольная сумма корректна') \n",
    "  def con_sum(message):\n",
    "    p=[]    \n",
    "    for ind in range(message.shape[0]):\n",
    "      y=np.zeros(7)  \n",
    "      for i in range(7):\n",
    "        s=0\n",
    "        for j in range(2**i-1, 85, 2**(i+1)):\n",
    "          for k in range(2**i):\n",
    "            if j+k<85:\n",
    "              s+=message[ind][j+k]\n",
    "        y[i]=int(s)%2\n",
    "      p.append(y)\n",
    "    return(p)\n",
    "  def go_back(x):\n",
    "    k=0\n",
    "    w1=[]\n",
    "    w2=[]\n",
    "    w3=[]\n",
    "    for i in range(25):\n",
    "      if 2**k==i+1:\n",
    "        k+=1\n",
    "      else:\n",
    "        w1.append(x[i])\n",
    "    for i in range(25,46):\n",
    "      if 2**k==i+1:\n",
    "        k+=1\n",
    "      else:\n",
    "        w2.append(x[i])\n",
    "    for i in range(46,85):\n",
    "      if 2**k==i+1:\n",
    "        k+=1\n",
    "      else:\n",
    "        w3.append(x[i])    \n",
    "    l1=0    \n",
    "    for i in range(len(w1)):\n",
    "      l1+=2**(19-i)*w1[i]\n",
    "    l=chr(int(l1))\n",
    "    l2=0    \n",
    "    for i in range(len(w2)):\n",
    "      l2+=2**(19-i)*w2[i]\n",
    "    l3=0    \n",
    "    for i in range(len(w3)):\n",
    "      l3+=2**(19-i)*w3[i]    \n",
    "    if l2!=0:  \n",
    "      l+=chr(int(l2))\n",
    "    if l3!=0:\n",
    "      l+=chr(int(l3))\n",
    "    return l\n",
    "  def eq(m1,m2):\n",
    "    flag=True\n",
    "    for i in range(len(m1)):\n",
    "      for j in range (len(m1[0])):\n",
    "        if m1[i][j]!=m2[i][j]:\n",
    "          flag=False\n",
    "    return flag\n",
    "  for ind in range(message.shape[0]):\n",
    "    for i in range(7):\n",
    "      message[ind][2**i-1]=0\n",
    "  p=con_sum(message)\n",
    "  if (eq(p,mat)):\n",
    "    text=''\n",
    "    for ind in range(message.shape[0]):\n",
    "      text+=go_back(message[ind])\n",
    "  else: \n",
    "    for ind in range(len(p)):\n",
    "        err=0  \n",
    "        for i in range(len(p[ind])):\n",
    "          if p[ind][i]!=mat[ind][i] and err+2**i<=85:\n",
    "            err+=2**i\n",
    "        if err>0:\n",
    "          message[ind][err-1]=1-message[ind][err-1]\n",
    "    p=con_sum(message)\n",
    "    text=''\n",
    "    for ind in range(message.shape[0]):\n",
    "      text+=go_back(message[ind])\n",
    "  if c32==zlib.crc32(text.encode('utf-8')):\n",
    "    print('сообщение доставлено верно')\n",
    "  else:\n",
    "    print('в доставленном сообщении имеются ошибки')\n",
    "  return text"
   ]
  },
  {
   "cell_type": "code",
   "execution_count": 116,
   "metadata": {},
   "outputs": [],
   "source": [
    "t=\"\"\"В то время как циклические избыточные коды являются частью стандартов, у этого термина не существует общепринятого определения — трактовки различных авторов нередко противоречат друг другу.\n",
    "\n",
    "Этот парадокс касается и выбора многочлена-генератора: зачастую стандартизованные полиномы не являются самыми эффективными в плане статистических свойств соответствующего им check redundancy code.\n",
    "\n",
    "При этом многие широко используемые полиномы не являются наиболее эффективными из всех возможных. В 1993—2004 годах группа учёных занималась исследованием порождающих многочленов разрядности до 16 24 и 32 бит и нашла полиномы, дающие лучшую, нежели стандартизированные многочлены, производительность в смысле кодового расстояния. Один из результатов этого исследования уже нашёл своё применение в протоколе iSCSI.\n",
    "\n",
    "Самый популярный и рекомендуемый IEEE полином для CRC-32 используется в Ethernet, FDDI; также этот многочлен является генератором кода Хемминга. Использование другого полинома — CRC-32C — позволяет достичь такой же производительности при длине исходного сообщения от 58 бит до 131 кбит, а в некоторых диапазонах длины входного сообщения может быть даже выше, поэтому в наши дни он тоже пользуется популярностью. К примеру, стандарт ITU-T G.hn использует CRC-32C с целью обнаружения ошибок в полезной нагрузке.\n",
    "\n",
    "Ниже в таблице перечислены наиболее распространённые многочлены — генераторы CRC. На практике вычисление CRC может включать пре- и постинверсию, а также обратный порядок обработки битов. В проприетарных реализациях CRC для усложнения анализа кода применяют ненулевые начальные значения регистров.\n",
    "\n",
    "Понятие циклические коды - достаточно широкое. В англоязычной литературе CRC понимается двояко в зависимости от контекста: Cyclic Redundancy Code или Cyclic Redundancy Check. Под первым понятием подразумевают математический феномен циклических кодов, под вторым — конкретное применение этого феномена как хеш-функции.\n",
    "\n",
    "Циклические коды не только просты в реализации, но и обладают тем преимуществом, что подходят для обнаружения пакетных ошибок: непрерывных последовательностей ошибочных символов данных в сообщениях. Это важно, потому что пакетные ошибки являются распространёнными ошибками передачи во многих каналах связи, включая магнитные и оптические запоминающие устройства.\n",
    "\n",
    "\n",
    "\"\"\""
   ]
  },
  {
   "attachments": {},
   "cell_type": "markdown",
   "metadata": {},
   "source": [
    "БЕЗ ОШИБОК"
   ]
  },
  {
   "cell_type": "code",
   "execution_count": 117,
   "metadata": {},
   "outputs": [],
   "source": [
    "mes, matr, c32, cs=coding(t) "
   ]
  },
  {
   "cell_type": "code",
   "execution_count": 118,
   "metadata": {},
   "outputs": [
    {
     "name": "stdout",
     "output_type": "stream",
     "text": [
      "контрольная сумма корректна\n",
      "сообщение доставлено верно\n"
     ]
    }
   ],
   "source": [
    "te=encoding(mes, matr, c32, cs)"
   ]
  },
  {
   "cell_type": "code",
   "execution_count": 119,
   "metadata": {},
   "outputs": [
    {
     "name": "stdout",
     "output_type": "stream",
     "text": [
      "True\n"
     ]
    }
   ],
   "source": [
    "print(t==te)"
   ]
  },
  {
   "cell_type": "code",
   "execution_count": 120,
   "metadata": {},
   "outputs": [],
   "source": [
    "def eq(m1,m2):\n",
    "    flag=True\n",
    "    for i in range(len(m1)):\n",
    "      for j in range (len(m1[0])):\n",
    "        if m1[i][j]!=m2[i][j]:\n",
    "          flag=False\n",
    "    return flag "
   ]
  },
  {
   "attachments": {},
   "cell_type": "markdown",
   "metadata": {},
   "source": [
    "Не более одной ошибки\n"
   ]
  },
  {
   "cell_type": "code",
   "execution_count": 121,
   "metadata": {},
   "outputs": [],
   "source": [
    "m1, mat1, c1, cs1=coding(t)\n",
    "m2, mat2, c2, cs2=coding(t)"
   ]
  },
  {
   "cell_type": "code",
   "execution_count": 122,
   "metadata": {},
   "outputs": [],
   "source": [
    "import random"
   ]
  },
  {
   "cell_type": "code",
   "execution_count": 123,
   "metadata": {},
   "outputs": [],
   "source": [
    "#внесение ошибок\n",
    "for i in range(m1.shape[0]):\n",
    "  j=random.randint(0,84)\n",
    "  m1[i][j]=1-m1[i][j]"
   ]
  },
  {
   "cell_type": "code",
   "execution_count": 124,
   "metadata": {},
   "outputs": [
    {
     "data": {
      "text/plain": [
       "False"
      ]
     },
     "execution_count": 124,
     "metadata": {},
     "output_type": "execute_result"
    }
   ],
   "source": [
    "eq(m1,m2)"
   ]
  },
  {
   "cell_type": "code",
   "execution_count": 125,
   "metadata": {},
   "outputs": [
    {
     "name": "stdout",
     "output_type": "stream",
     "text": [
      "контрольная сумма корректна\n",
      "сообщение доставлено верно\n",
      "контрольная сумма корректна\n",
      "сообщение доставлено верно\n"
     ]
    },
    {
     "data": {
      "text/plain": [
       "True"
      ]
     },
     "execution_count": 125,
     "metadata": {},
     "output_type": "execute_result"
    }
   ],
   "source": [
    "encoding(m1,mat1,c1,cs1)==encoding(m2,mat2,c2,cs2)"
   ]
  },
  {
   "cell_type": "code",
   "execution_count": 126,
   "metadata": {},
   "outputs": [
    {
     "name": "stdout",
     "output_type": "stream",
     "text": [
      "контрольная сумма корректна\n",
      "сообщение доставлено верно\n"
     ]
    },
    {
     "data": {
      "text/plain": [
       "True"
      ]
     },
     "execution_count": 126,
     "metadata": {},
     "output_type": "execute_result"
    }
   ],
   "source": [
    "t==encoding(m1,mat1,c1,cs1)"
   ]
  },
  {
   "attachments": {},
   "cell_type": "markdown",
   "metadata": {},
   "source": [
    "Более одной ошибки "
   ]
  },
  {
   "cell_type": "code",
   "execution_count": 127,
   "metadata": {},
   "outputs": [],
   "source": [
    "m3, mat3, c3, cs3=coding(t)"
   ]
  },
  {
   "cell_type": "code",
   "execution_count": 128,
   "metadata": {},
   "outputs": [
    {
     "name": "stdout",
     "output_type": "stream",
     "text": [
      "0.370757180156658\n",
      "852\n"
     ]
    }
   ],
   "source": [
    "n=0\n",
    "import random\n",
    "for i in range(m3.shape[0]):\n",
    "  j=random.randint(10,56)\n",
    "  n+=1\n",
    "  m3[i][j]=1-m3[i][j]\n",
    "  r=random.choice([True, False])\n",
    "  k=random.choice(list(range(-10,10)))\n",
    "  if r:\n",
    "    m3[i][j+k]=1-m3[i][j+k]\n",
    "    if (j<25 and j+k>=25) or (j>=25 and j<46 and (j+k<25 or j+k>=46)) or (j>=46 and j+k<46):\n",
    "      n+=1\n",
    "#ошибки допущены в (символах):      \n",
    "print(n/(m3.shape[0]*3))\n",
    "print(n)"
   ]
  },
  {
   "cell_type": "code",
   "execution_count": 129,
   "metadata": {},
   "outputs": [
    {
     "name": "stdout",
     "output_type": "stream",
     "text": [
      "контрольная сумма корректна\n",
      "в доставленном сообщении имеются ошибки\n"
     ]
    }
   ],
   "source": [
    "dec=encoding(m3,mat3,c3,cs3)"
   ]
  },
  {
   "cell_type": "code",
   "execution_count": 130,
   "metadata": {},
   "outputs": [
    {
     "data": {
      "text/plain": [
       "False"
      ]
     },
     "execution_count": 130,
     "metadata": {},
     "output_type": "execute_result"
    }
   ],
   "source": [
    "dec==t"
   ]
  },
  {
   "cell_type": "code",
   "execution_count": 131,
   "metadata": {},
   "outputs": [
    {
     "name": "stdout",
     "output_type": "stream",
     "text": [
      "0.2699172834131476\n",
      "620\n"
     ]
    }
   ],
   "source": [
    "err=0\n",
    "for i in range(len(dec)):\n",
    "  if dec[i]!=t[i]:\n",
    "    err+=1\n",
    "print(err/len(dec))\n",
    "print(err)"
   ]
  },
  {
   "cell_type": "code",
   "execution_count": 132,
   "metadata": {},
   "outputs": [
    {
     "name": "stdout",
     "output_type": "stream",
     "text": [
      "232\n"
     ]
    }
   ],
   "source": [
    "#исправлено ошибок \n",
    "print(n-err)"
   ]
  },
  {
   "cell_type": "code",
   "execution_count": 133,
   "metadata": {},
   "outputs": [],
   "source": [
    "tr=0\n",
    "f=0\n",
    "for i in range(0,len(t)-2,3):\n",
    "  if dec[i]==t[i] and dec[i+1]==t[i+1] and dec[i+2]==t[i+2]:\n",
    "    tr+=1\n",
    "  else:\n",
    "    f+=1"
   ]
  },
  {
   "cell_type": "code",
   "execution_count": 134,
   "metadata": {},
   "outputs": [
    {
     "name": "stdout",
     "output_type": "stream",
     "text": [
      "421 344\n"
     ]
    }
   ],
   "source": [
    "print(tr,f)"
   ]
  }
 ],
 "metadata": {
  "kernelspec": {
   "display_name": "Python 3",
   "language": "python",
   "name": "python3"
  },
  "language_info": {
   "codemirror_mode": {
    "name": "ipython",
    "version": 3
   },
   "file_extension": ".py",
   "mimetype": "text/x-python",
   "name": "python",
   "nbconvert_exporter": "python",
   "pygments_lexer": "ipython3",
   "version": "3.9.13"
  },
  "orig_nbformat": 4
 },
 "nbformat": 4,
 "nbformat_minor": 2
}
